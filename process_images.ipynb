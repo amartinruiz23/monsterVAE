{
 "cells": [
  {
   "cell_type": "code",
   "execution_count": 5,
   "id": "brilliant-karma",
   "metadata": {},
   "outputs": [],
   "source": [
    "MAX_SIZE = 96"
   ]
  },
  {
   "cell_type": "code",
   "execution_count": 6,
   "id": "previous-winning",
   "metadata": {},
   "outputs": [],
   "source": [
    "import cv2\n",
    "import os"
   ]
  },
  {
   "cell_type": "code",
   "execution_count": 7,
   "id": "bigger-religion",
   "metadata": {},
   "outputs": [],
   "source": [
    "in_path = \"..\\\\sprites\\\\original_sprites\"\n",
    "out_path = \"..\\\\sprites\\\\processed_sprites\""
   ]
  },
  {
   "cell_type": "code",
   "execution_count": 8,
   "id": "documented-corps",
   "metadata": {},
   "outputs": [],
   "source": [
    "for direc in os.listdir(in_path):\n",
    "    in_direc = os.path.join(in_path, direc)\n",
    "    for img_name in os.listdir(in_direc):\n",
    "        img = cv2.imread(os.path.join(in_direc, img_name), cv2.IMREAD_UNCHANGED)\n",
    "        if img.shape[0] < MAX_SIZE:\n",
    "            pad_size = int((MAX_SIZE - img.shape[0])/2)\n",
    "            img = cv2.copyMakeBorder(img, pad_size, pad_size, pad_size, pad_size, cv2.BORDER_CONSTANT, value=[0,0,0,0])\n",
    "        cv2.imwrite(os.path.join(out_path,direc +'-'+ img_name), img)"
   ]
  },
  {
   "cell_type": "code",
   "execution_count": null,
   "id": "august-classics",
   "metadata": {},
   "outputs": [],
   "source": []
  },
  {
   "cell_type": "code",
   "execution_count": null,
   "id": "forty-difficulty",
   "metadata": {},
   "outputs": [],
   "source": []
  }
 ],
 "metadata": {
  "kernelspec": {
   "display_name": "Python 3 (ipykernel)",
   "language": "python",
   "name": "python3"
  },
  "language_info": {
   "codemirror_mode": {
    "name": "ipython",
    "version": 3
   },
   "file_extension": ".py",
   "mimetype": "text/x-python",
   "name": "python",
   "nbconvert_exporter": "python",
   "pygments_lexer": "ipython3",
   "version": "3.9.7"
  }
 },
 "nbformat": 4,
 "nbformat_minor": 5
}
